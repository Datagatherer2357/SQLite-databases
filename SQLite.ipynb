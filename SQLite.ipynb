{
 "cells": [
  {
   "cell_type": "markdown",
   "metadata": {},
   "source": [
    "## SQLite\n",
    "\n",
    "![SQLite logo](https://upload.wikimedia.org/wikipedia/commons/thumb/3/38/SQLite370.svg/320px-SQLite370.svg.png)\n",
    "\n",
    "----------------------------------\n",
    "sqlite3 Python documentation\n",
    "\n",
    "\n",
    "https://docs.python.org/3.7/library/sqlite3.html\n",
    "\n",
    "\n",
    "The sqlite3 Python package documentation page.\n",
    "\n",
    "-------------------------------------------"
   ]
  },
  {
   "cell_type": "markdown",
   "metadata": {},
   "source": [
    "### Databases\n",
    "\n",
    "![MySQL client](https://upload.wikimedia.org/wikipedia/commons/d/dd/Mysql-screenshot.PNG)\n",
    "\n",
    "\n",
    "People use the term database to sometimes mean:\n",
    "* The data set itself.\n",
    "* A program that manages datasets.\n",
    "* The computer that runs the program.\n",
    "\n",
    "A database is not a particular dataset but a theoretical idea of a dataset thats well structured? Well, databases are really just efficient ways of storing data/info.\n",
    "\n",
    "-----------------\n",
    "\n",
    "### Purposes\n",
    "\n",
    "* Persistent storage.\n",
    "* Fast data storage and retrieval algorithms.\n",
    "* Dealing with multi-user conflicts.\n",
    "\n",
    "---------------------\n",
    "\n",
    "### Types\n"
   ]
  },
  {
   "cell_type": "markdown",
   "metadata": {},
   "source": [
    "![Relational database table](https://upload.wikimedia.org/wikipedia/commons/thumb/f/f2/DVD_Rental_Query.png/554px-DVD_Rental_Query.png)\n",
    "\n",
    "* Relational databases where data are structured in tables.\n",
    "* NoSQL databases with no particular structure.\n",
    "* Relational versus all other types, because relational are historically the most common.\n",
    "    \n",
    "----------------------\n",
    "\n",
    "### Many tables \n",
    "\n",
    "![SQL join](https://i2.wp.com/ramkedem.com/wp-content/uploads/2015/08/sql_inner_join.png?w=600)\n",
    "\n",
    "* Excel is great for single table scenarios.\n",
    "* Gets a little clunky when you have two or more tables that are related.\n",
    "\n",
    "\n",
    "Only two types of databases: Relational (narrow but v popular, e.g. MySQL) or NOSQL types. Relational databases are great at working with and merging the tables together and using various functions. Excel spreadsheets can only handle smaller datasets. Whereas a database system is much faster and up to the job.\n",
    "\n",
    "-------------------------\n",
    "\n",
    "\n",
    "\n",
    "### Connections\n",
    "\n",
    "* Database server/management system is a program running on some machine.\n",
    "* Access it by knowing the connection details, supplied by the database administrator.\n",
    "* Typcially need database type, IP address, port, username, password, database name."
   ]
  },
  {
   "cell_type": "code",
   "execution_count": null,
   "metadata": {},
   "outputs": [],
   "source": [
    "import mysql.connector\n",
    "cnx = mysql.connector.connect(user='scott', password='password',\n",
    "                              host='127.0.0.1',\n",
    "                              database='employees')\n",
    "cnx.close()"
   ]
  },
  {
   "cell_type": "markdown",
   "metadata": {},
   "source": [
    "### SQLite\n",
    "\n",
    "* Simple database that runs in memory.\n",
    "* Not really a separate program/process/software - it's part of your program.\n",
    "* Uses the SQL language.\n",
    "\n",
    "### SQL\n",
    "\n",
    "* Structured Query Language.\n",
    "* Simple syntax.\n",
    "* State what you want, not how to get it.\n",
    "* CRUD: Create, Retrieve, Update, Delete."
   ]
  },
  {
   "cell_type": "code",
   "execution_count": null,
   "metadata": {},
   "outputs": [],
   "source": [
    "CREATE TABLE person(id AUTOINCREMENT PRIMARY KEY, name VARCHAR(255), address VARCHAR(255));\n",
    "    INSERT INTO person VALUES(\"Joe Bloggs\", \"Galway\");\n",
    "    SELECT name FROM person;\n",
    "    UPDATE person SET address=\"Sligo\" WHERE name=\"Joe Bloggs\";\n",
    "    DELETE FROM person WHERE name=\"Joe Bloggs\";\n",
    "    DROP TABLE person;"
   ]
  },
  {
   "cell_type": "markdown",
   "metadata": {},
   "source": [
    "### Join in pandas"
   ]
  },
  {
   "cell_type": "code",
   "execution_count": null,
   "metadata": {},
   "outputs": [],
   "source": []
  }
 ],
 "metadata": {
  "kernelspec": {
   "display_name": "Python 3",
   "language": "python",
   "name": "python3"
  },
  "language_info": {
   "codemirror_mode": {
    "name": "ipython",
    "version": 3
   },
   "file_extension": ".py",
   "mimetype": "text/x-python",
   "name": "python",
   "nbconvert_exporter": "python",
   "pygments_lexer": "ipython3",
   "version": "3.6.5"
  }
 },
 "nbformat": 4,
 "nbformat_minor": 2
}
